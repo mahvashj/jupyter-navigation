{
 "cells": [
  {
   "cell_type": "code",
   "execution_count": 22,
   "metadata": {
    "collapsed": false
   },
   "outputs": [
    {
     "data": {
      "text/html": [
       "<a name=\"code\"></a>"
      ],
      "text/plain": [
       "<IPython.core.display.HTML object>"
      ]
     },
     "metadata": {},
     "output_type": "display_data"
    }
   ],
   "source": [
    "%%HTML\n",
    "<a name=\"code\"></a>"
   ]
  },
  {
   "cell_type": "code",
   "execution_count": 23,
   "metadata": {
    "collapsed": false
   },
   "outputs": [
    {
     "data": {
      "text/html": [
       "<style>\n",
       "    .yourDiv {position: fixed;top: 100px; left: 0px; background: white;height: 100%;width: 200px; padding: 20px; z-index: 10000}\n",
       "</style>\n",
       "<script>\n",
       "function showthis(url) {\n",
       "\twindow.open(url, \"pres\", \"toolbar=yes,scrollbars=yes,resizable=yes,top=10,left=400,width=500,height=500\");\n",
       "\treturn(false);\n",
       "}\n",
       "</script>\n",
       "\n",
       "<div class=yourDiv>\n",
       "    <a href=#loc1>Location 1</a><br>\n",
       "    <a href=#loc2>Location 2</a><br>\n",
       "    <a href=http://linkedin.com/in/drrobertjoseph onclick=return(showthis(this.href));>Robert Joseph, Ph.D.</a></li>\n",
       "    <a href=#code>Back To Code</a><br>\n",
       "</div>"
      ],
      "text/plain": [
       "<IPython.core.display.HTML object>"
      ]
     },
     "metadata": {},
     "output_type": "display_data"
    }
   ],
   "source": [
    "%%HTML\n",
    "<!--\n",
    "HTML code to create the sidebar, menu and independent popup window.\n",
    "-->\n",
    "<style>\n",
    "    .yourDiv {position: fixed;top: 100px; left: 0px; background: white;height: 100%;width: 200px; padding: 20px; z-index: 10000}\n",
    "</style>\n",
    "<script>\n",
    "function showthis(url) {\n",
    "\twindow.open(url, \"pres\", \"toolbar=yes,scrollbars=yes,resizable=yes,top=10,left=400,width=500,height=500\");\n",
    "\treturn(false);\n",
    "}\n",
    "</script>\n",
    "\n",
    "<div class=yourDiv>\n",
    "    <a href=#loc1>Location 1</a><br>\n",
    "    <a href=#loc2>Location 2</a><br>\n",
    "    <a href=http://linkedin.com/in/drrobertjoseph onclick=return(showthis(this.href));>Robert Joseph, Ph.D.</a></li>\n",
    "    <a href=#code>Back To Code</a><br>\n",
    "</div>"
   ]
  },
  {
   "cell_type": "code",
   "execution_count": 24,
   "metadata": {
    "collapsed": true
   },
   "outputs": [],
   "source": [
    "# python code to create multiple newlines\n",
    "def newlines(num):\n",
    "    for i in range(num):\n",
    "        print(\"\\n\")"
   ]
  },
  {
   "cell_type": "code",
   "execution_count": 32,
   "metadata": {
    "collapsed": false
   },
   "outputs": [
    {
     "data": {
      "text/html": [
       "<a name=\"loc1\"></a>\n",
       "<h1>Location 1:</h1>\n",
       "<h3>This is text below to help fill the space.</h3><br><br>\n",
       "\n",
       "Lorem ipsum dolor sit amet, consectetur adipiscing elit. Pellentesque lorem nulla,\n",
       "ultricies tincidunt diam a, venenatis porta metus. Mauris vitae mauris eleifend\n",
       "eros commodo feugiat. Praesent sollicitudin hendrerit lacinia. Aenean cursus\n",
       "nisl vel faucibus convallis. Fusce quis posuere est. Nunc ut massa sed felis ultrices\n",
       "pulvinar in vel leo. In hac habitasse platea dictumst. Suspendisse dapibus, risus ac\n",
       "iaculis facilisis, metus ante porttitor ligula, quis tempus lorem quam elementum mi.\n",
       "Nullam consectetur consequat elit, eget dapibus eros malesuada ut. Cras tempus ullamcorper\n",
       "erat vitae efficitur."
      ],
      "text/plain": [
       "<IPython.core.display.HTML object>"
      ]
     },
     "metadata": {},
     "output_type": "display_data"
    }
   ],
   "source": [
    "%%HTML\n",
    "<a name=\"loc1\"></a>\n",
    "<h1>Location 1:</h1>\n",
    "<h3>This is text below to help fill the space.</h3><br><br>\n",
    "\n",
    "Lorem ipsum dolor sit amet, consectetur adipiscing elit. Pellentesque lorem nulla,\n",
    "ultricies tincidunt diam a, venenatis porta metus. Mauris vitae mauris eleifend\n",
    "eros commodo feugiat. Praesent sollicitudin hendrerit lacinia. Aenean cursus\n",
    "nisl vel faucibus convallis. Fusce quis posuere est. Nunc ut massa sed felis ultrices\n",
    "pulvinar in vel leo. In hac habitasse platea dictumst. Suspendisse dapibus, risus ac\n",
    "iaculis facilisis, metus ante porttitor ligula, quis tempus lorem quam elementum mi.\n",
    "Nullam consectetur consequat elit, eget dapibus eros malesuada ut. Cras tempus ullamcorper\n",
    "erat vitae efficitur."
   ]
  },
  {
   "cell_type": "code",
   "execution_count": 35,
   "metadata": {
    "collapsed": false
   },
   "outputs": [
    {
     "name": "stdout",
     "output_type": "stream",
     "text": [
      "\n",
      "\n",
      "\n",
      "\n",
      "\n",
      "\n",
      "\n",
      "\n",
      "\n",
      "\n",
      "\n",
      "\n",
      "\n",
      "\n",
      "\n",
      "\n",
      "\n",
      "\n",
      "\n",
      "\n",
      "\n",
      "\n",
      "\n",
      "\n",
      "\n",
      "\n",
      "\n",
      "\n",
      "\n",
      "\n",
      "\n",
      "\n",
      "\n",
      "\n",
      "\n",
      "\n",
      "\n",
      "\n",
      "\n",
      "\n",
      "\n",
      "\n",
      "\n",
      "\n",
      "\n",
      "\n",
      "\n",
      "\n",
      "\n",
      "\n",
      "\n",
      "\n",
      "\n",
      "\n",
      "\n",
      "\n",
      "\n",
      "\n",
      "\n",
      "\n"
     ]
    }
   ],
   "source": [
    "newlines(30)"
   ]
  },
  {
   "cell_type": "code",
   "execution_count": 34,
   "metadata": {
    "collapsed": false
   },
   "outputs": [
    {
     "data": {
      "text/html": [
       "<a name=\"loc2\"></a>\n",
       "<h1>Location 2</h1>\n",
       "<h3>Additional texst can be added below</h3>"
      ],
      "text/plain": [
       "<IPython.core.display.HTML object>"
      ]
     },
     "metadata": {},
     "output_type": "display_data"
    }
   ],
   "source": [
    "%%HTML\n",
    "<a name=\"loc2\"></a>\n",
    "<h1>Location 2</h1>\n",
    "<h3>Additional texst can be added below</h3>"
   ]
  },
  {
   "cell_type": "code",
   "execution_count": 30,
   "metadata": {
    "collapsed": false
   },
   "outputs": [
    {
     "name": "stdout",
     "output_type": "stream",
     "text": [
      "\n",
      "\n",
      "\n",
      "\n",
      "\n",
      "\n",
      "\n",
      "\n",
      "\n",
      "\n",
      "\n",
      "\n",
      "\n",
      "\n",
      "\n",
      "\n",
      "\n",
      "\n",
      "\n",
      "\n",
      "\n",
      "\n",
      "\n",
      "\n",
      "\n",
      "\n",
      "\n",
      "\n",
      "\n",
      "\n",
      "\n",
      "\n",
      "\n",
      "\n",
      "\n",
      "\n",
      "\n",
      "\n",
      "\n",
      "\n",
      "\n",
      "\n",
      "\n",
      "\n",
      "\n",
      "\n",
      "\n",
      "\n",
      "\n",
      "\n",
      "\n",
      "\n",
      "\n",
      "\n",
      "\n",
      "\n",
      "\n",
      "\n",
      "\n",
      "\n"
     ]
    }
   ],
   "source": [
    "newlines(30)"
   ]
  },
  {
   "cell_type": "code",
   "execution_count": 28,
   "metadata": {
    "collapsed": false
   },
   "outputs": [
    {
     "name": "stdout",
     "output_type": "stream",
     "text": [
      "\n",
      "\n",
      "\n",
      "\n",
      "\n",
      "\n",
      "\n",
      "\n",
      "\n",
      "\n",
      "\n",
      "\n",
      "\n",
      "\n",
      "\n",
      "\n",
      "\n",
      "\n",
      "\n",
      "\n",
      "\n",
      "\n",
      "\n",
      "\n",
      "\n",
      "\n",
      "\n",
      "\n",
      "\n",
      "\n",
      "\n",
      "\n",
      "\n",
      "\n",
      "\n",
      "\n",
      "\n",
      "\n",
      "\n",
      "\n",
      "\n",
      "\n",
      "\n",
      "\n",
      "\n",
      "\n",
      "\n",
      "\n",
      "\n",
      "\n",
      "\n",
      "\n",
      "\n",
      "\n",
      "\n",
      "\n",
      "\n",
      "\n",
      "\n",
      "\n"
     ]
    }
   ],
   "source": [
    "newlines(30)"
   ]
  }
 ],
 "metadata": {
  "kernelspec": {
   "display_name": "Python 3",
   "language": "python",
   "name": "python3"
  },
  "language_info": {
   "codemirror_mode": {
    "name": "ipython",
    "version": 3
   },
   "file_extension": ".py",
   "mimetype": "text/x-python",
   "name": "python",
   "nbconvert_exporter": "python",
   "pygments_lexer": "ipython3",
   "version": "3.5.2"
  }
 },
 "nbformat": 4,
 "nbformat_minor": 1
}
